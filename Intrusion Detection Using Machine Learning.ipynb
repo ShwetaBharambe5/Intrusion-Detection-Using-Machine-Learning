{
 "cells": [
  {
   "cell_type": "code",
   "execution_count": 63,
   "id": "d0d77f66",
   "metadata": {},
   "outputs": [],
   "source": [
    "import numpy as np\n",
    "import pandas as pd"
   ]
  },
  {
   "cell_type": "code",
   "execution_count": 64,
   "id": "67df6773",
   "metadata": {},
   "outputs": [],
   "source": [
    "import os\n",
    "for dirname, _, filenames in os.walk('/kaggle/input'):\n",
    "    for filename in filenames:\n",
    "          print(os.path.join(dirname, filename))"
   ]
  },
  {
   "cell_type": "code",
   "execution_count": 65,
   "id": "46552aae",
   "metadata": {},
   "outputs": [],
   "source": [
    "import numpy as np\n",
    "import pandas as pd\n",
    "import tensorflow as tf\n",
    "import matplotlib.pyplot as plt\n",
    "import seaborn as sns\n",
    "import time\n",
    "import multiprocessing\n",
    "    \n",
    "from sklearn.linear_model import LogisticRegression\n",
    "from sklearn.ensemble import RandomForestClassifier\n",
    "from collections import Counter\n",
    "from sklearn.preprocessing import LabelEncoder, StandardScaler\n",
    "from sklearn.model_selection import train_test_split\n",
    "from imblearn.over_sampling import SMOTE, ADASYN\n",
    "from sklearn.metrics import confusion_matrix, r2_score, mean_squared_error\n",
    "from sklearn.metrics import precision_score, recall_score, f1_score, roc_auc_score, accuracy_score, classification_report, precision_recall_curve\n",
    "\n",
    "import warnings\n",
    "warnings.filterwarnings(\"ignore\")"
   ]
  },
  {
   "cell_type": "code",
   "execution_count": 66,
   "id": "aa3ae163",
   "metadata": {},
   "outputs": [
    {
     "name": "stdout",
     "output_type": "stream",
     "text": [
      "Requirement already satisfied: imblearn in c:\\users\\shweta\\appdata\\roaming\\python\\python38\\site-packages (0.0)\n",
      "Requirement already satisfied: imbalanced-learn in c:\\users\\shweta\\appdata\\roaming\\python\\python38\\site-packages (from imblearn) (0.10.0)\n",
      "Requirement already satisfied: numpy>=1.17.3 in c:\\users\\shweta\\anaconda3\\lib\\site-packages (from imbalanced-learn->imblearn) (1.20.1)\n",
      "Requirement already satisfied: joblib>=1.1.1 in c:\\users\\shweta\\anaconda3\\lib\\site-packages (from imbalanced-learn->imblearn) (1.2.0)\n",
      "Requirement already satisfied: threadpoolctl>=2.0.0 in c:\\users\\shweta\\anaconda3\\lib\\site-packages (from imbalanced-learn->imblearn) (2.1.0)\n",
      "Requirement already satisfied: scikit-learn>=1.0.2 in c:\\users\\shweta\\anaconda3\\lib\\site-packages (from imbalanced-learn->imblearn) (1.2.0)\n",
      "Requirement already satisfied: scipy>=1.3.2 in c:\\users\\shweta\\anaconda3\\lib\\site-packages (from imbalanced-learn->imblearn) (1.6.2)\n",
      "Note: you may need to restart the kernel to use updated packages.\n"
     ]
    }
   ],
   "source": [
    "pip install imblearn --user"
   ]
  },
  {
   "cell_type": "code",
   "execution_count": 67,
   "id": "51a36a4e",
   "metadata": {},
   "outputs": [
    {
     "data": {
      "text/html": [
       "<div>\n",
       "<style scoped>\n",
       "    .dataframe tbody tr th:only-of-type {\n",
       "        vertical-align: middle;\n",
       "    }\n",
       "\n",
       "    .dataframe tbody tr th {\n",
       "        vertical-align: top;\n",
       "    }\n",
       "\n",
       "    .dataframe thead th {\n",
       "        text-align: right;\n",
       "    }\n",
       "</style>\n",
       "<table border=\"1\" class=\"dataframe\">\n",
       "  <thead>\n",
       "    <tr style=\"text-align: right;\">\n",
       "      <th></th>\n",
       "      <th>duration</th>\n",
       "      <th>protocoltype</th>\n",
       "      <th>service</th>\n",
       "      <th>flag</th>\n",
       "      <th>srcbytes</th>\n",
       "      <th>dstbytes</th>\n",
       "      <th>land</th>\n",
       "      <th>wrongfragment</th>\n",
       "      <th>urgent</th>\n",
       "      <th>hot</th>\n",
       "      <th>...</th>\n",
       "      <th>dsthostsamesrvrate</th>\n",
       "      <th>dsthostdiffsrvrate</th>\n",
       "      <th>dsthostsamesrcportrate</th>\n",
       "      <th>dsthostsrvdiffhostrate</th>\n",
       "      <th>dsthostserrorrate</th>\n",
       "      <th>dsthostsrvserrorrate</th>\n",
       "      <th>dsthostrerrorrate</th>\n",
       "      <th>dsthostsrvrerrorrate</th>\n",
       "      <th>attack</th>\n",
       "      <th>lastflag</th>\n",
       "    </tr>\n",
       "  </thead>\n",
       "  <tbody>\n",
       "    <tr>\n",
       "      <th>0</th>\n",
       "      <td>0</td>\n",
       "      <td>tcp</td>\n",
       "      <td>ftp_data</td>\n",
       "      <td>SF</td>\n",
       "      <td>491</td>\n",
       "      <td>0</td>\n",
       "      <td>0</td>\n",
       "      <td>0</td>\n",
       "      <td>0</td>\n",
       "      <td>0</td>\n",
       "      <td>...</td>\n",
       "      <td>0.17</td>\n",
       "      <td>0.03</td>\n",
       "      <td>0.17</td>\n",
       "      <td>0.00</td>\n",
       "      <td>0.00</td>\n",
       "      <td>0.00</td>\n",
       "      <td>0.05</td>\n",
       "      <td>0.00</td>\n",
       "      <td>normal</td>\n",
       "      <td>20</td>\n",
       "    </tr>\n",
       "    <tr>\n",
       "      <th>1</th>\n",
       "      <td>0</td>\n",
       "      <td>udp</td>\n",
       "      <td>other</td>\n",
       "      <td>SF</td>\n",
       "      <td>146</td>\n",
       "      <td>0</td>\n",
       "      <td>0</td>\n",
       "      <td>0</td>\n",
       "      <td>0</td>\n",
       "      <td>0</td>\n",
       "      <td>...</td>\n",
       "      <td>0.00</td>\n",
       "      <td>0.60</td>\n",
       "      <td>0.88</td>\n",
       "      <td>0.00</td>\n",
       "      <td>0.00</td>\n",
       "      <td>0.00</td>\n",
       "      <td>0.00</td>\n",
       "      <td>0.00</td>\n",
       "      <td>normal</td>\n",
       "      <td>15</td>\n",
       "    </tr>\n",
       "    <tr>\n",
       "      <th>2</th>\n",
       "      <td>0</td>\n",
       "      <td>tcp</td>\n",
       "      <td>private</td>\n",
       "      <td>S0</td>\n",
       "      <td>0</td>\n",
       "      <td>0</td>\n",
       "      <td>0</td>\n",
       "      <td>0</td>\n",
       "      <td>0</td>\n",
       "      <td>0</td>\n",
       "      <td>...</td>\n",
       "      <td>0.10</td>\n",
       "      <td>0.05</td>\n",
       "      <td>0.00</td>\n",
       "      <td>0.00</td>\n",
       "      <td>1.00</td>\n",
       "      <td>1.00</td>\n",
       "      <td>0.00</td>\n",
       "      <td>0.00</td>\n",
       "      <td>neptune</td>\n",
       "      <td>19</td>\n",
       "    </tr>\n",
       "    <tr>\n",
       "      <th>3</th>\n",
       "      <td>0</td>\n",
       "      <td>tcp</td>\n",
       "      <td>http</td>\n",
       "      <td>SF</td>\n",
       "      <td>232</td>\n",
       "      <td>8153</td>\n",
       "      <td>0</td>\n",
       "      <td>0</td>\n",
       "      <td>0</td>\n",
       "      <td>0</td>\n",
       "      <td>...</td>\n",
       "      <td>1.00</td>\n",
       "      <td>0.00</td>\n",
       "      <td>0.03</td>\n",
       "      <td>0.04</td>\n",
       "      <td>0.03</td>\n",
       "      <td>0.01</td>\n",
       "      <td>0.00</td>\n",
       "      <td>0.01</td>\n",
       "      <td>normal</td>\n",
       "      <td>21</td>\n",
       "    </tr>\n",
       "    <tr>\n",
       "      <th>4</th>\n",
       "      <td>0</td>\n",
       "      <td>tcp</td>\n",
       "      <td>http</td>\n",
       "      <td>SF</td>\n",
       "      <td>199</td>\n",
       "      <td>420</td>\n",
       "      <td>0</td>\n",
       "      <td>0</td>\n",
       "      <td>0</td>\n",
       "      <td>0</td>\n",
       "      <td>...</td>\n",
       "      <td>1.00</td>\n",
       "      <td>0.00</td>\n",
       "      <td>0.00</td>\n",
       "      <td>0.00</td>\n",
       "      <td>0.00</td>\n",
       "      <td>0.00</td>\n",
       "      <td>0.00</td>\n",
       "      <td>0.00</td>\n",
       "      <td>normal</td>\n",
       "      <td>21</td>\n",
       "    </tr>\n",
       "  </tbody>\n",
       "</table>\n",
       "<p>5 rows × 43 columns</p>\n",
       "</div>"
      ],
      "text/plain": [
       "   duration protocoltype   service flag  srcbytes  dstbytes  land  \\\n",
       "0         0          tcp  ftp_data   SF       491         0     0   \n",
       "1         0          udp     other   SF       146         0     0   \n",
       "2         0          tcp   private   S0         0         0     0   \n",
       "3         0          tcp      http   SF       232      8153     0   \n",
       "4         0          tcp      http   SF       199       420     0   \n",
       "\n",
       "   wrongfragment  urgent  hot  ...  dsthostsamesrvrate  dsthostdiffsrvrate  \\\n",
       "0              0       0    0  ...                0.17                0.03   \n",
       "1              0       0    0  ...                0.00                0.60   \n",
       "2              0       0    0  ...                0.10                0.05   \n",
       "3              0       0    0  ...                1.00                0.00   \n",
       "4              0       0    0  ...                1.00                0.00   \n",
       "\n",
       "   dsthostsamesrcportrate  dsthostsrvdiffhostrate  dsthostserrorrate  \\\n",
       "0                    0.17                    0.00               0.00   \n",
       "1                    0.88                    0.00               0.00   \n",
       "2                    0.00                    0.00               1.00   \n",
       "3                    0.03                    0.04               0.03   \n",
       "4                    0.00                    0.00               0.00   \n",
       "\n",
       "   dsthostsrvserrorrate  dsthostrerrorrate  dsthostsrvrerrorrate   attack  \\\n",
       "0                  0.00               0.05                  0.00   normal   \n",
       "1                  0.00               0.00                  0.00   normal   \n",
       "2                  1.00               0.00                  0.00  neptune   \n",
       "3                  0.01               0.00                  0.01   normal   \n",
       "4                  0.00               0.00                  0.00   normal   \n",
       "\n",
       "   lastflag  \n",
       "0        20  \n",
       "1        15  \n",
       "2        19  \n",
       "3        21  \n",
       "4        21  \n",
       "\n",
       "[5 rows x 43 columns]"
      ]
     },
     "execution_count": 67,
     "metadata": {},
     "output_type": "execute_result"
    }
   ],
   "source": [
    "df = pd.read_csv(\"D:/Train.txt\",sep=\",\",names=[\"duration\",\"protocoltype\",\"service\",\"flag\",\"srcbytes\",\"dstbytes\",\"land\", \"wrongfragment\",\"urgent\",\"hot\",\"numfailedlogins\",\"loggedin\", \"numcompromised\",\"rootshell\",\"suattempted\",\"numroot\",\"numfilecreations\", \"numshells\",\"numaccessfiles\",\"numoutboundcmds\",\"ishostlogin\",\n",
    "\"isguestlogin\",\"count\",\"srvcount\",\"serrorrate\", \"srvserrorrate\",\n",
    "\"rerrorrate\",\"srvrerrorrate\",\"samesrvrate\", \"diffsrvrate\", \"srvdiffhostrate\",\"dsthostcount\",\"dsthostsrvcount\",\"dsthostsamesrvrate\", \"dsthostdiffsrvrate\",\"dsthostsamesrcportrate\",\n",
    "\"dsthostsrvdiffhostrate\",\"dsthostserrorrate\",\"dsthostsrvserrorrate\",\n",
    "\"dsthostrerrorrate\",\"dsthostsrvrerrorrate\",\"attack\", \"lastflag\"])\n",
    "df.head()\n"
   ]
  },
  {
   "cell_type": "code",
   "execution_count": 68,
   "id": "df68001d",
   "metadata": {},
   "outputs": [
    {
     "data": {
      "text/plain": [
       "(125973, 43)"
      ]
     },
     "execution_count": 68,
     "metadata": {},
     "output_type": "execute_result"
    }
   ],
   "source": [
    "df.shape"
   ]
  },
  {
   "cell_type": "code",
   "execution_count": 69,
   "id": "0ffd9e56",
   "metadata": {},
   "outputs": [
    {
     "data": {
      "text/html": [
       "<div>\n",
       "<style scoped>\n",
       "    .dataframe tbody tr th:only-of-type {\n",
       "        vertical-align: middle;\n",
       "    }\n",
       "\n",
       "    .dataframe tbody tr th {\n",
       "        vertical-align: top;\n",
       "    }\n",
       "\n",
       "    .dataframe thead th {\n",
       "        text-align: right;\n",
       "    }\n",
       "</style>\n",
       "<table border=\"1\" class=\"dataframe\">\n",
       "  <thead>\n",
       "    <tr style=\"text-align: right;\">\n",
       "      <th></th>\n",
       "      <th>duration</th>\n",
       "      <th>srcbytes</th>\n",
       "      <th>dstbytes</th>\n",
       "      <th>land</th>\n",
       "      <th>wrongfragment</th>\n",
       "      <th>urgent</th>\n",
       "      <th>hot</th>\n",
       "      <th>numfailedlogins</th>\n",
       "      <th>loggedin</th>\n",
       "      <th>numcompromised</th>\n",
       "      <th>...</th>\n",
       "      <th>dsthostsrvcount</th>\n",
       "      <th>dsthostsamesrvrate</th>\n",
       "      <th>dsthostdiffsrvrate</th>\n",
       "      <th>dsthostsamesrcportrate</th>\n",
       "      <th>dsthostsrvdiffhostrate</th>\n",
       "      <th>dsthostserrorrate</th>\n",
       "      <th>dsthostsrvserrorrate</th>\n",
       "      <th>dsthostrerrorrate</th>\n",
       "      <th>dsthostsrvrerrorrate</th>\n",
       "      <th>lastflag</th>\n",
       "    </tr>\n",
       "  </thead>\n",
       "  <tbody>\n",
       "    <tr>\n",
       "      <th>count</th>\n",
       "      <td>125973.00000</td>\n",
       "      <td>1.259730e+05</td>\n",
       "      <td>1.259730e+05</td>\n",
       "      <td>125973.000000</td>\n",
       "      <td>125973.000000</td>\n",
       "      <td>125973.000000</td>\n",
       "      <td>125973.000000</td>\n",
       "      <td>125973.000000</td>\n",
       "      <td>125973.000000</td>\n",
       "      <td>125973.000000</td>\n",
       "      <td>...</td>\n",
       "      <td>125973.000000</td>\n",
       "      <td>125973.000000</td>\n",
       "      <td>125973.000000</td>\n",
       "      <td>125973.000000</td>\n",
       "      <td>125973.000000</td>\n",
       "      <td>125973.000000</td>\n",
       "      <td>125973.000000</td>\n",
       "      <td>125973.000000</td>\n",
       "      <td>125973.000000</td>\n",
       "      <td>125973.000000</td>\n",
       "    </tr>\n",
       "    <tr>\n",
       "      <th>mean</th>\n",
       "      <td>287.14465</td>\n",
       "      <td>4.556674e+04</td>\n",
       "      <td>1.977911e+04</td>\n",
       "      <td>0.000198</td>\n",
       "      <td>0.022687</td>\n",
       "      <td>0.000111</td>\n",
       "      <td>0.204409</td>\n",
       "      <td>0.001222</td>\n",
       "      <td>0.395736</td>\n",
       "      <td>0.279250</td>\n",
       "      <td>...</td>\n",
       "      <td>115.653005</td>\n",
       "      <td>0.521242</td>\n",
       "      <td>0.082951</td>\n",
       "      <td>0.148379</td>\n",
       "      <td>0.032542</td>\n",
       "      <td>0.284452</td>\n",
       "      <td>0.278485</td>\n",
       "      <td>0.118832</td>\n",
       "      <td>0.120240</td>\n",
       "      <td>19.504060</td>\n",
       "    </tr>\n",
       "    <tr>\n",
       "      <th>std</th>\n",
       "      <td>2604.51531</td>\n",
       "      <td>5.870331e+06</td>\n",
       "      <td>4.021269e+06</td>\n",
       "      <td>0.014086</td>\n",
       "      <td>0.253530</td>\n",
       "      <td>0.014366</td>\n",
       "      <td>2.149968</td>\n",
       "      <td>0.045239</td>\n",
       "      <td>0.489010</td>\n",
       "      <td>23.942042</td>\n",
       "      <td>...</td>\n",
       "      <td>110.702741</td>\n",
       "      <td>0.448949</td>\n",
       "      <td>0.188922</td>\n",
       "      <td>0.308997</td>\n",
       "      <td>0.112564</td>\n",
       "      <td>0.444784</td>\n",
       "      <td>0.445669</td>\n",
       "      <td>0.306557</td>\n",
       "      <td>0.319459</td>\n",
       "      <td>2.291503</td>\n",
       "    </tr>\n",
       "    <tr>\n",
       "      <th>min</th>\n",
       "      <td>0.00000</td>\n",
       "      <td>0.000000e+00</td>\n",
       "      <td>0.000000e+00</td>\n",
       "      <td>0.000000</td>\n",
       "      <td>0.000000</td>\n",
       "      <td>0.000000</td>\n",
       "      <td>0.000000</td>\n",
       "      <td>0.000000</td>\n",
       "      <td>0.000000</td>\n",
       "      <td>0.000000</td>\n",
       "      <td>...</td>\n",
       "      <td>0.000000</td>\n",
       "      <td>0.000000</td>\n",
       "      <td>0.000000</td>\n",
       "      <td>0.000000</td>\n",
       "      <td>0.000000</td>\n",
       "      <td>0.000000</td>\n",
       "      <td>0.000000</td>\n",
       "      <td>0.000000</td>\n",
       "      <td>0.000000</td>\n",
       "      <td>0.000000</td>\n",
       "    </tr>\n",
       "    <tr>\n",
       "      <th>25%</th>\n",
       "      <td>0.00000</td>\n",
       "      <td>0.000000e+00</td>\n",
       "      <td>0.000000e+00</td>\n",
       "      <td>0.000000</td>\n",
       "      <td>0.000000</td>\n",
       "      <td>0.000000</td>\n",
       "      <td>0.000000</td>\n",
       "      <td>0.000000</td>\n",
       "      <td>0.000000</td>\n",
       "      <td>0.000000</td>\n",
       "      <td>...</td>\n",
       "      <td>10.000000</td>\n",
       "      <td>0.050000</td>\n",
       "      <td>0.000000</td>\n",
       "      <td>0.000000</td>\n",
       "      <td>0.000000</td>\n",
       "      <td>0.000000</td>\n",
       "      <td>0.000000</td>\n",
       "      <td>0.000000</td>\n",
       "      <td>0.000000</td>\n",
       "      <td>18.000000</td>\n",
       "    </tr>\n",
       "    <tr>\n",
       "      <th>50%</th>\n",
       "      <td>0.00000</td>\n",
       "      <td>4.400000e+01</td>\n",
       "      <td>0.000000e+00</td>\n",
       "      <td>0.000000</td>\n",
       "      <td>0.000000</td>\n",
       "      <td>0.000000</td>\n",
       "      <td>0.000000</td>\n",
       "      <td>0.000000</td>\n",
       "      <td>0.000000</td>\n",
       "      <td>0.000000</td>\n",
       "      <td>...</td>\n",
       "      <td>63.000000</td>\n",
       "      <td>0.510000</td>\n",
       "      <td>0.020000</td>\n",
       "      <td>0.000000</td>\n",
       "      <td>0.000000</td>\n",
       "      <td>0.000000</td>\n",
       "      <td>0.000000</td>\n",
       "      <td>0.000000</td>\n",
       "      <td>0.000000</td>\n",
       "      <td>20.000000</td>\n",
       "    </tr>\n",
       "    <tr>\n",
       "      <th>75%</th>\n",
       "      <td>0.00000</td>\n",
       "      <td>2.760000e+02</td>\n",
       "      <td>5.160000e+02</td>\n",
       "      <td>0.000000</td>\n",
       "      <td>0.000000</td>\n",
       "      <td>0.000000</td>\n",
       "      <td>0.000000</td>\n",
       "      <td>0.000000</td>\n",
       "      <td>1.000000</td>\n",
       "      <td>0.000000</td>\n",
       "      <td>...</td>\n",
       "      <td>255.000000</td>\n",
       "      <td>1.000000</td>\n",
       "      <td>0.070000</td>\n",
       "      <td>0.060000</td>\n",
       "      <td>0.020000</td>\n",
       "      <td>1.000000</td>\n",
       "      <td>1.000000</td>\n",
       "      <td>0.000000</td>\n",
       "      <td>0.000000</td>\n",
       "      <td>21.000000</td>\n",
       "    </tr>\n",
       "    <tr>\n",
       "      <th>max</th>\n",
       "      <td>42908.00000</td>\n",
       "      <td>1.379964e+09</td>\n",
       "      <td>1.309937e+09</td>\n",
       "      <td>1.000000</td>\n",
       "      <td>3.000000</td>\n",
       "      <td>3.000000</td>\n",
       "      <td>77.000000</td>\n",
       "      <td>5.000000</td>\n",
       "      <td>1.000000</td>\n",
       "      <td>7479.000000</td>\n",
       "      <td>...</td>\n",
       "      <td>255.000000</td>\n",
       "      <td>1.000000</td>\n",
       "      <td>1.000000</td>\n",
       "      <td>1.000000</td>\n",
       "      <td>1.000000</td>\n",
       "      <td>1.000000</td>\n",
       "      <td>1.000000</td>\n",
       "      <td>1.000000</td>\n",
       "      <td>1.000000</td>\n",
       "      <td>21.000000</td>\n",
       "    </tr>\n",
       "  </tbody>\n",
       "</table>\n",
       "<p>8 rows × 39 columns</p>\n",
       "</div>"
      ],
      "text/plain": [
       "           duration      srcbytes      dstbytes           land  wrongfragment  \\\n",
       "count  125973.00000  1.259730e+05  1.259730e+05  125973.000000  125973.000000   \n",
       "mean      287.14465  4.556674e+04  1.977911e+04       0.000198       0.022687   \n",
       "std      2604.51531  5.870331e+06  4.021269e+06       0.014086       0.253530   \n",
       "min         0.00000  0.000000e+00  0.000000e+00       0.000000       0.000000   \n",
       "25%         0.00000  0.000000e+00  0.000000e+00       0.000000       0.000000   \n",
       "50%         0.00000  4.400000e+01  0.000000e+00       0.000000       0.000000   \n",
       "75%         0.00000  2.760000e+02  5.160000e+02       0.000000       0.000000   \n",
       "max     42908.00000  1.379964e+09  1.309937e+09       1.000000       3.000000   \n",
       "\n",
       "              urgent            hot  numfailedlogins       loggedin  \\\n",
       "count  125973.000000  125973.000000    125973.000000  125973.000000   \n",
       "mean        0.000111       0.204409         0.001222       0.395736   \n",
       "std         0.014366       2.149968         0.045239       0.489010   \n",
       "min         0.000000       0.000000         0.000000       0.000000   \n",
       "25%         0.000000       0.000000         0.000000       0.000000   \n",
       "50%         0.000000       0.000000         0.000000       0.000000   \n",
       "75%         0.000000       0.000000         0.000000       1.000000   \n",
       "max         3.000000      77.000000         5.000000       1.000000   \n",
       "\n",
       "       numcompromised  ...  dsthostsrvcount  dsthostsamesrvrate  \\\n",
       "count   125973.000000  ...    125973.000000       125973.000000   \n",
       "mean         0.279250  ...       115.653005            0.521242   \n",
       "std         23.942042  ...       110.702741            0.448949   \n",
       "min          0.000000  ...         0.000000            0.000000   \n",
       "25%          0.000000  ...        10.000000            0.050000   \n",
       "50%          0.000000  ...        63.000000            0.510000   \n",
       "75%          0.000000  ...       255.000000            1.000000   \n",
       "max       7479.000000  ...       255.000000            1.000000   \n",
       "\n",
       "       dsthostdiffsrvrate  dsthostsamesrcportrate  dsthostsrvdiffhostrate  \\\n",
       "count       125973.000000           125973.000000           125973.000000   \n",
       "mean             0.082951                0.148379                0.032542   \n",
       "std              0.188922                0.308997                0.112564   \n",
       "min              0.000000                0.000000                0.000000   \n",
       "25%              0.000000                0.000000                0.000000   \n",
       "50%              0.020000                0.000000                0.000000   \n",
       "75%              0.070000                0.060000                0.020000   \n",
       "max              1.000000                1.000000                1.000000   \n",
       "\n",
       "       dsthostserrorrate  dsthostsrvserrorrate  dsthostrerrorrate  \\\n",
       "count      125973.000000         125973.000000      125973.000000   \n",
       "mean            0.284452              0.278485           0.118832   \n",
       "std             0.444784              0.445669           0.306557   \n",
       "min             0.000000              0.000000           0.000000   \n",
       "25%             0.000000              0.000000           0.000000   \n",
       "50%             0.000000              0.000000           0.000000   \n",
       "75%             1.000000              1.000000           0.000000   \n",
       "max             1.000000              1.000000           1.000000   \n",
       "\n",
       "       dsthostsrvrerrorrate       lastflag  \n",
       "count         125973.000000  125973.000000  \n",
       "mean               0.120240      19.504060  \n",
       "std                0.319459       2.291503  \n",
       "min                0.000000       0.000000  \n",
       "25%                0.000000      18.000000  \n",
       "50%                0.000000      20.000000  \n",
       "75%                0.000000      21.000000  \n",
       "max                1.000000      21.000000  \n",
       "\n",
       "[8 rows x 39 columns]"
      ]
     },
     "execution_count": 69,
     "metadata": {},
     "output_type": "execute_result"
    }
   ],
   "source": [
    "df.describe()"
   ]
  },
  {
   "cell_type": "code",
   "execution_count": 70,
   "id": "e516e70f",
   "metadata": {},
   "outputs": [],
   "source": [
    "df.drop(['land','urgent','numfailedlogins','numoutboundcmds'],axis=1,inplace=True)"
   ]
  },
  {
   "cell_type": "code",
   "execution_count": 71,
   "id": "04b1313e",
   "metadata": {},
   "outputs": [
    {
     "data": {
      "text/plain": [
       "duration                  0\n",
       "protocoltype              0\n",
       "service                   0\n",
       "flag                      0\n",
       "srcbytes                  0\n",
       "dstbytes                  0\n",
       "wrongfragment             0\n",
       "hot                       0\n",
       "loggedin                  0\n",
       "numcompromised            0\n",
       "rootshell                 0\n",
       "suattempted               0\n",
       "numroot                   0\n",
       "numfilecreations          0\n",
       "numshells                 0\n",
       "numaccessfiles            0\n",
       "ishostlogin               0\n",
       "isguestlogin              0\n",
       "count                     0\n",
       "srvcount                  0\n",
       "serrorrate                0\n",
       "srvserrorrate             0\n",
       "rerrorrate                0\n",
       "srvrerrorrate             0\n",
       "samesrvrate               0\n",
       "diffsrvrate               0\n",
       "srvdiffhostrate           0\n",
       "dsthostcount              0\n",
       "dsthostsrvcount           0\n",
       "dsthostsamesrvrate        0\n",
       "dsthostdiffsrvrate        0\n",
       "dsthostsamesrcportrate    0\n",
       "dsthostsrvdiffhostrate    0\n",
       "dsthostserrorrate         0\n",
       "dsthostsrvserrorrate      0\n",
       "dsthostrerrorrate         0\n",
       "dsthostsrvrerrorrate      0\n",
       "attack                    0\n",
       "lastflag                  0\n",
       "dtype: int64"
      ]
     },
     "execution_count": 71,
     "metadata": {},
     "output_type": "execute_result"
    }
   ],
   "source": [
    "df.isna().sum()"
   ]
  },
  {
   "cell_type": "code",
   "execution_count": 72,
   "id": "676b8625",
   "metadata": {},
   "outputs": [
    {
     "data": {
      "text/html": [
       "<div>\n",
       "<style scoped>\n",
       "    .dataframe tbody tr th:only-of-type {\n",
       "        vertical-align: middle;\n",
       "    }\n",
       "\n",
       "    .dataframe tbody tr th {\n",
       "        vertical-align: top;\n",
       "    }\n",
       "\n",
       "    .dataframe thead th {\n",
       "        text-align: right;\n",
       "    }\n",
       "</style>\n",
       "<table border=\"1\" class=\"dataframe\">\n",
       "  <thead>\n",
       "    <tr style=\"text-align: right;\">\n",
       "      <th></th>\n",
       "      <th>protocoltype</th>\n",
       "      <th>service</th>\n",
       "      <th>flag</th>\n",
       "      <th>attack</th>\n",
       "    </tr>\n",
       "  </thead>\n",
       "  <tbody>\n",
       "    <tr>\n",
       "      <th>0</th>\n",
       "      <td>tcp</td>\n",
       "      <td>ftp_data</td>\n",
       "      <td>SF</td>\n",
       "      <td>normal</td>\n",
       "    </tr>\n",
       "    <tr>\n",
       "      <th>1</th>\n",
       "      <td>udp</td>\n",
       "      <td>other</td>\n",
       "      <td>SF</td>\n",
       "      <td>normal</td>\n",
       "    </tr>\n",
       "    <tr>\n",
       "      <th>2</th>\n",
       "      <td>tcp</td>\n",
       "      <td>private</td>\n",
       "      <td>S0</td>\n",
       "      <td>neptune</td>\n",
       "    </tr>\n",
       "    <tr>\n",
       "      <th>3</th>\n",
       "      <td>tcp</td>\n",
       "      <td>http</td>\n",
       "      <td>SF</td>\n",
       "      <td>normal</td>\n",
       "    </tr>\n",
       "    <tr>\n",
       "      <th>4</th>\n",
       "      <td>tcp</td>\n",
       "      <td>http</td>\n",
       "      <td>SF</td>\n",
       "      <td>normal</td>\n",
       "    </tr>\n",
       "    <tr>\n",
       "      <th>...</th>\n",
       "      <td>...</td>\n",
       "      <td>...</td>\n",
       "      <td>...</td>\n",
       "      <td>...</td>\n",
       "    </tr>\n",
       "    <tr>\n",
       "      <th>125968</th>\n",
       "      <td>tcp</td>\n",
       "      <td>private</td>\n",
       "      <td>S0</td>\n",
       "      <td>neptune</td>\n",
       "    </tr>\n",
       "    <tr>\n",
       "      <th>125969</th>\n",
       "      <td>udp</td>\n",
       "      <td>private</td>\n",
       "      <td>SF</td>\n",
       "      <td>normal</td>\n",
       "    </tr>\n",
       "    <tr>\n",
       "      <th>125970</th>\n",
       "      <td>tcp</td>\n",
       "      <td>smtp</td>\n",
       "      <td>SF</td>\n",
       "      <td>normal</td>\n",
       "    </tr>\n",
       "    <tr>\n",
       "      <th>125971</th>\n",
       "      <td>tcp</td>\n",
       "      <td>klogin</td>\n",
       "      <td>S0</td>\n",
       "      <td>neptune</td>\n",
       "    </tr>\n",
       "    <tr>\n",
       "      <th>125972</th>\n",
       "      <td>tcp</td>\n",
       "      <td>ftp_data</td>\n",
       "      <td>SF</td>\n",
       "      <td>normal</td>\n",
       "    </tr>\n",
       "  </tbody>\n",
       "</table>\n",
       "<p>125973 rows × 4 columns</p>\n",
       "</div>"
      ],
      "text/plain": [
       "       protocoltype   service flag   attack\n",
       "0               tcp  ftp_data   SF   normal\n",
       "1               udp     other   SF   normal\n",
       "2               tcp   private   S0  neptune\n",
       "3               tcp      http   SF   normal\n",
       "4               tcp      http   SF   normal\n",
       "...             ...       ...  ...      ...\n",
       "125968          tcp   private   S0  neptune\n",
       "125969          udp   private   SF   normal\n",
       "125970          tcp      smtp   SF   normal\n",
       "125971          tcp    klogin   S0  neptune\n",
       "125972          tcp  ftp_data   SF   normal\n",
       "\n",
       "[125973 rows x 4 columns]"
      ]
     },
     "execution_count": 72,
     "metadata": {},
     "output_type": "execute_result"
    }
   ],
   "source": [
    "df.select_dtypes(exclude=[np.number])"
   ]
  },
  {
   "cell_type": "code",
   "execution_count": 73,
   "id": "bf730b41",
   "metadata": {},
   "outputs": [],
   "source": [
    "df['attack'].loc[df['attack']!='normal']='attack'"
   ]
  },
  {
   "cell_type": "code",
   "execution_count": 74,
   "id": "bf41c419",
   "metadata": {},
   "outputs": [],
   "source": [
    "le=LabelEncoder()"
   ]
  },
  {
   "cell_type": "code",
   "execution_count": 75,
   "id": "fc1b790c",
   "metadata": {},
   "outputs": [],
   "source": [
    "df['protocoltype']=le.fit_transform(df['protocoltype'])"
   ]
  },
  {
   "cell_type": "code",
   "execution_count": 76,
   "id": "685df7d8",
   "metadata": {},
   "outputs": [],
   "source": [
    "df['service']=le.fit_transform(df['service'])"
   ]
  },
  {
   "cell_type": "code",
   "execution_count": 77,
   "id": "a6258008",
   "metadata": {},
   "outputs": [],
   "source": [
    "df['flag']=le.fit_transform(df['flag'])"
   ]
  },
  {
   "cell_type": "code",
   "execution_count": 78,
   "id": "9692d8e0",
   "metadata": {},
   "outputs": [],
   "source": [
    "df['attack']=le.fit_transform(df['attack'])"
   ]
  },
  {
   "cell_type": "code",
   "execution_count": 79,
   "id": "96b536fe",
   "metadata": {},
   "outputs": [
    {
     "data": {
      "text/plain": [
       "<AxesSubplot:>"
      ]
     },
     "execution_count": 79,
     "metadata": {},
     "output_type": "execute_result"
    },
    {
     "data": {
      "image/png": "[encoded data removed]",
      "text/plain": [
       "<Figure size 1440x1080 with 2 Axes>"
      ]
     },
     "metadata": {
      "needs_background": "light"
     },
     "output_type": "display_data"
    }
   ],
   "source": [
    "plt.figure(figsize=(20,15))\n",
    "sns.heatmap(df.corr())"
   ]
  },
  {
   "cell_type": "code",
   "execution_count": 80,
   "id": "34927568",
   "metadata": {},
   "outputs": [],
   "source": [
    "X=df.drop(['attack'],axis=1)\n",
    "y=df['attack']"
   ]
  },
  {
   "cell_type": "code",
   "execution_count": 81,
   "id": "c38f396e",
   "metadata": {},
   "outputs": [
    {
     "data": {
      "text/plain": [
       "<AxesSubplot:xlabel='attack', ylabel='count'>"
      ]
     },
     "execution_count": 81,
     "metadata": {},
     "output_type": "execute_result"
    },
    {
     "data": {
      "image/png": "[encoded data removed]",
      "text/plain": [
       "<Figure size 432x288 with 1 Axes>"
      ]
     },
     "metadata": {
      "needs_background": "light"
     },
     "output_type": "display_data"
    }
   ],
   "source": [
    "sns.countplot(df['attack'])"
   ]
  },
  {
   "cell_type": "code",
   "execution_count": 82,
   "id": "c8a8b35f",
   "metadata": {},
   "outputs": [
    {
     "name": "stdout",
     "output_type": "stream",
     "text": [
      "Class distribution: Counter({1: 67343, 0: 58630})\n"
     ]
    }
   ],
   "source": [
    "print(\"Class distribution: {}\".format(Counter(y)))"
   ]
  },
  {
   "cell_type": "code",
   "execution_count": 83,
   "id": "7b6c2daa",
   "metadata": {},
   "outputs": [],
   "source": [
    "scaler = StandardScaler()\n",
    "scaler.fit(X)\n",
    "X_transformed = scaler.transform(X)"
   ]
  },
  {
   "cell_type": "code",
   "execution_count": 84,
   "id": "ac667a3b",
   "metadata": {},
   "outputs": [],
   "source": [
    "lr=LogisticRegression()\n",
    "lr.fit(X_transformed,y)\n",
    "lr_pred=lr.predict(X_transformed)"
   ]
  },
  {
   "cell_type": "code",
   "execution_count": 85,
   "id": "e478ecaf",
   "metadata": {},
   "outputs": [],
   "source": [
    "lr_df=pd.DataFrame()\n",
    "lr_df['actual']=y\n",
    "lr_df['pred']=lr_pred"
   ]
  },
  {
   "cell_type": "code",
   "execution_count": 86,
   "id": "44284ecb",
   "metadata": {},
   "outputs": [
    {
     "data": {
      "text/html": [
       "<div>\n",
       "<style scoped>\n",
       "    .dataframe tbody tr th:only-of-type {\n",
       "        vertical-align: middle;\n",
       "    }\n",
       "\n",
       "    .dataframe tbody tr th {\n",
       "        vertical-align: top;\n",
       "    }\n",
       "\n",
       "    .dataframe thead th {\n",
       "        text-align: right;\n",
       "    }\n",
       "</style>\n",
       "<table border=\"1\" class=\"dataframe\">\n",
       "  <thead>\n",
       "    <tr style=\"text-align: right;\">\n",
       "      <th></th>\n",
       "      <th>actual</th>\n",
       "      <th>pred</th>\n",
       "    </tr>\n",
       "  </thead>\n",
       "  <tbody>\n",
       "    <tr>\n",
       "      <th>0</th>\n",
       "      <td>1</td>\n",
       "      <td>1</td>\n",
       "    </tr>\n",
       "    <tr>\n",
       "      <th>1</th>\n",
       "      <td>1</td>\n",
       "      <td>0</td>\n",
       "    </tr>\n",
       "    <tr>\n",
       "      <th>2</th>\n",
       "      <td>0</td>\n",
       "      <td>0</td>\n",
       "    </tr>\n",
       "    <tr>\n",
       "      <th>3</th>\n",
       "      <td>1</td>\n",
       "      <td>1</td>\n",
       "    </tr>\n",
       "    <tr>\n",
       "      <th>4</th>\n",
       "      <td>1</td>\n",
       "      <td>1</td>\n",
       "    </tr>\n",
       "  </tbody>\n",
       "</table>\n",
       "</div>"
      ],
      "text/plain": [
       "   actual  pred\n",
       "0       1     1\n",
       "1       1     0\n",
       "2       0     0\n",
       "3       1     1\n",
       "4       1     1"
      ]
     },
     "execution_count": 86,
     "metadata": {},
     "output_type": "execute_result"
    }
   ],
   "source": [
    "lr_df.head()"
   ]
  },
  {
   "cell_type": "code",
   "execution_count": 87,
   "id": "ee963024",
   "metadata": {},
   "outputs": [
    {
     "name": "stdout",
     "output_type": "stream",
     "text": [
      "0.9783207512720979\n"
     ]
    }
   ],
   "source": [
    "print(accuracy_score(y, lr_pred))"
   ]
  },
  {
   "cell_type": "code",
   "execution_count": 88,
   "id": "7588c398",
   "metadata": {},
   "outputs": [
    {
     "data": {
      "text/plain": [
       "array([[57558,  1072],\n",
       "       [ 1659, 65684]], dtype=int64)"
      ]
     },
     "execution_count": 88,
     "metadata": {},
     "output_type": "execute_result"
    }
   ],
   "source": [
    "confusion_matrix(y, lr_pred)"
   ]
  },
  {
   "cell_type": "code",
   "execution_count": 89,
   "id": "db9d2537",
   "metadata": {},
   "outputs": [
    {
     "name": "stdout",
     "output_type": "stream",
     "text": [
      "              precision    recall  f1-score   support\n",
      "\n",
      "           0       0.97      0.98      0.98     58630\n",
      "           1       0.98      0.98      0.98     67343\n",
      "\n",
      "    accuracy                           0.98    125973\n",
      "   macro avg       0.98      0.98      0.98    125973\n",
      "weighted avg       0.98      0.98      0.98    125973\n",
      "\n"
     ]
    }
   ],
   "source": [
    "print(classification_report(y, lr_pred))"
   ]
  },
  {
   "cell_type": "code",
   "execution_count": 90,
   "id": "5453de05",
   "metadata": {},
   "outputs": [],
   "source": [
    "rf=RandomForestClassifier()\n",
    "rf.fit(X_transformed,y)\n",
    "rf_pred=rf.predict(X_transformed)"
   ]
  },
  {
   "cell_type": "code",
   "execution_count": 91,
   "id": "6c3775b7",
   "metadata": {},
   "outputs": [
    {
     "data": {
      "text/html": [
       "<div>\n",
       "<style scoped>\n",
       "    .dataframe tbody tr th:only-of-type {\n",
       "        vertical-align: middle;\n",
       "    }\n",
       "\n",
       "    .dataframe tbody tr th {\n",
       "        vertical-align: top;\n",
       "    }\n",
       "\n",
       "    .dataframe thead th {\n",
       "        text-align: right;\n",
       "    }\n",
       "</style>\n",
       "<table border=\"1\" class=\"dataframe\">\n",
       "  <thead>\n",
       "    <tr style=\"text-align: right;\">\n",
       "      <th></th>\n",
       "      <th>actual</th>\n",
       "      <th>pred</th>\n",
       "    </tr>\n",
       "  </thead>\n",
       "  <tbody>\n",
       "    <tr>\n",
       "      <th>0</th>\n",
       "      <td>1</td>\n",
       "      <td>1</td>\n",
       "    </tr>\n",
       "    <tr>\n",
       "      <th>1</th>\n",
       "      <td>1</td>\n",
       "      <td>1</td>\n",
       "    </tr>\n",
       "    <tr>\n",
       "      <th>2</th>\n",
       "      <td>0</td>\n",
       "      <td>0</td>\n",
       "    </tr>\n",
       "    <tr>\n",
       "      <th>3</th>\n",
       "      <td>1</td>\n",
       "      <td>1</td>\n",
       "    </tr>\n",
       "    <tr>\n",
       "      <th>4</th>\n",
       "      <td>1</td>\n",
       "      <td>1</td>\n",
       "    </tr>\n",
       "  </tbody>\n",
       "</table>\n",
       "</div>"
      ],
      "text/plain": [
       "   actual  pred\n",
       "0       1     1\n",
       "1       1     1\n",
       "2       0     0\n",
       "3       1     1\n",
       "4       1     1"
      ]
     },
     "execution_count": 91,
     "metadata": {},
     "output_type": "execute_result"
    }
   ],
   "source": [
    "rf_df=pd.DataFrame()\n",
    "rf_df['actual']=y\n",
    "rf_df['pred']=rf_pred\n",
    "rf_df.head()"
   ]
  },
  {
   "cell_type": "code",
   "execution_count": 92,
   "id": "e98c99b7",
   "metadata": {},
   "outputs": [
    {
     "name": "stdout",
     "output_type": "stream",
     "text": [
      "1.0\n"
     ]
    }
   ],
   "source": [
    "print(accuracy_score(y, rf_pred))"
   ]
  },
  {
   "cell_type": "code",
   "execution_count": 93,
   "id": "9f8bd76c",
   "metadata": {},
   "outputs": [
    {
     "data": {
      "text/plain": [
       "array([[58630,     0],\n",
       "       [    0, 67343]], dtype=int64)"
      ]
     },
     "execution_count": 93,
     "metadata": {},
     "output_type": "execute_result"
    }
   ],
   "source": [
    "confusion_matrix(y, rf_pred)"
   ]
  },
  {
   "cell_type": "code",
   "execution_count": 94,
   "id": "a04fcb5a",
   "metadata": {},
   "outputs": [
    {
     "name": "stdout",
     "output_type": "stream",
     "text": [
      "              precision    recall  f1-score   support\n",
      "\n",
      "           0       1.00      1.00      1.00     58630\n",
      "           1       1.00      1.00      1.00     67343\n",
      "\n",
      "    accuracy                           1.00    125973\n",
      "   macro avg       1.00      1.00      1.00    125973\n",
      "weighted avg       1.00      1.00      1.00    125973\n",
      "\n"
     ]
    }
   ],
   "source": [
    "print(classification_report(y, rf_pred))"
   ]
  },
  {
   "cell_type": "code",
   "execution_count": 95,
   "id": "3fa6020e",
   "metadata": {},
   "outputs": [
    {
     "data": {
      "text/html": [
       "<div>\n",
       "<style scoped>\n",
       "    .dataframe tbody tr th:only-of-type {\n",
       "        vertical-align: middle;\n",
       "    }\n",
       "\n",
       "    .dataframe tbody tr th {\n",
       "        vertical-align: top;\n",
       "    }\n",
       "\n",
       "    .dataframe thead th {\n",
       "        text-align: right;\n",
       "    }\n",
       "</style>\n",
       "<table border=\"1\" class=\"dataframe\">\n",
       "  <thead>\n",
       "    <tr style=\"text-align: right;\">\n",
       "      <th></th>\n",
       "      <th>duration</th>\n",
       "      <th>protocoltype</th>\n",
       "      <th>service</th>\n",
       "      <th>flag</th>\n",
       "      <th>srcbytes</th>\n",
       "      <th>dstbytes</th>\n",
       "      <th>land</th>\n",
       "      <th>wrongfragment</th>\n",
       "      <th>urgent</th>\n",
       "      <th>hot</th>\n",
       "      <th>...</th>\n",
       "      <th>dsthostsamesrvrate</th>\n",
       "      <th>dsthostdiffsrvrate</th>\n",
       "      <th>dsthostsamesrcportrate</th>\n",
       "      <th>dsthostsrvdiffhostrate</th>\n",
       "      <th>dsthostserrorrate</th>\n",
       "      <th>dsthostsrvserrorrate</th>\n",
       "      <th>dsthostrerrorrate</th>\n",
       "      <th>dsthostsrvrerrorrate</th>\n",
       "      <th>attack</th>\n",
       "      <th>lastflag</th>\n",
       "    </tr>\n",
       "  </thead>\n",
       "  <tbody>\n",
       "    <tr>\n",
       "      <th>0</th>\n",
       "      <td>0</td>\n",
       "      <td>tcp</td>\n",
       "      <td>private</td>\n",
       "      <td>REJ</td>\n",
       "      <td>0</td>\n",
       "      <td>0</td>\n",
       "      <td>0</td>\n",
       "      <td>0</td>\n",
       "      <td>0</td>\n",
       "      <td>0</td>\n",
       "      <td>...</td>\n",
       "      <td>0.04</td>\n",
       "      <td>0.06</td>\n",
       "      <td>0.00</td>\n",
       "      <td>0.00</td>\n",
       "      <td>0.0</td>\n",
       "      <td>0.0</td>\n",
       "      <td>1.00</td>\n",
       "      <td>1.00</td>\n",
       "      <td>neptune</td>\n",
       "      <td>21</td>\n",
       "    </tr>\n",
       "    <tr>\n",
       "      <th>1</th>\n",
       "      <td>0</td>\n",
       "      <td>tcp</td>\n",
       "      <td>private</td>\n",
       "      <td>REJ</td>\n",
       "      <td>0</td>\n",
       "      <td>0</td>\n",
       "      <td>0</td>\n",
       "      <td>0</td>\n",
       "      <td>0</td>\n",
       "      <td>0</td>\n",
       "      <td>...</td>\n",
       "      <td>0.00</td>\n",
       "      <td>0.06</td>\n",
       "      <td>0.00</td>\n",
       "      <td>0.00</td>\n",
       "      <td>0.0</td>\n",
       "      <td>0.0</td>\n",
       "      <td>1.00</td>\n",
       "      <td>1.00</td>\n",
       "      <td>neptune</td>\n",
       "      <td>21</td>\n",
       "    </tr>\n",
       "    <tr>\n",
       "      <th>2</th>\n",
       "      <td>2</td>\n",
       "      <td>tcp</td>\n",
       "      <td>ftp_data</td>\n",
       "      <td>SF</td>\n",
       "      <td>12983</td>\n",
       "      <td>0</td>\n",
       "      <td>0</td>\n",
       "      <td>0</td>\n",
       "      <td>0</td>\n",
       "      <td>0</td>\n",
       "      <td>...</td>\n",
       "      <td>0.61</td>\n",
       "      <td>0.04</td>\n",
       "      <td>0.61</td>\n",
       "      <td>0.02</td>\n",
       "      <td>0.0</td>\n",
       "      <td>0.0</td>\n",
       "      <td>0.00</td>\n",
       "      <td>0.00</td>\n",
       "      <td>normal</td>\n",
       "      <td>21</td>\n",
       "    </tr>\n",
       "    <tr>\n",
       "      <th>3</th>\n",
       "      <td>0</td>\n",
       "      <td>icmp</td>\n",
       "      <td>eco_i</td>\n",
       "      <td>SF</td>\n",
       "      <td>20</td>\n",
       "      <td>0</td>\n",
       "      <td>0</td>\n",
       "      <td>0</td>\n",
       "      <td>0</td>\n",
       "      <td>0</td>\n",
       "      <td>...</td>\n",
       "      <td>1.00</td>\n",
       "      <td>0.00</td>\n",
       "      <td>1.00</td>\n",
       "      <td>0.28</td>\n",
       "      <td>0.0</td>\n",
       "      <td>0.0</td>\n",
       "      <td>0.00</td>\n",
       "      <td>0.00</td>\n",
       "      <td>saint</td>\n",
       "      <td>15</td>\n",
       "    </tr>\n",
       "    <tr>\n",
       "      <th>4</th>\n",
       "      <td>1</td>\n",
       "      <td>tcp</td>\n",
       "      <td>telnet</td>\n",
       "      <td>RSTO</td>\n",
       "      <td>0</td>\n",
       "      <td>15</td>\n",
       "      <td>0</td>\n",
       "      <td>0</td>\n",
       "      <td>0</td>\n",
       "      <td>0</td>\n",
       "      <td>...</td>\n",
       "      <td>0.31</td>\n",
       "      <td>0.17</td>\n",
       "      <td>0.03</td>\n",
       "      <td>0.02</td>\n",
       "      <td>0.0</td>\n",
       "      <td>0.0</td>\n",
       "      <td>0.83</td>\n",
       "      <td>0.71</td>\n",
       "      <td>mscan</td>\n",
       "      <td>11</td>\n",
       "    </tr>\n",
       "  </tbody>\n",
       "</table>\n",
       "<p>5 rows × 43 columns</p>\n",
       "</div>"
      ],
      "text/plain": [
       "   duration protocoltype   service  flag  srcbytes  dstbytes  land  \\\n",
       "0         0          tcp   private   REJ         0         0     0   \n",
       "1         0          tcp   private   REJ         0         0     0   \n",
       "2         2          tcp  ftp_data    SF     12983         0     0   \n",
       "3         0         icmp     eco_i    SF        20         0     0   \n",
       "4         1          tcp    telnet  RSTO         0        15     0   \n",
       "\n",
       "   wrongfragment  urgent  hot  ...  dsthostsamesrvrate  dsthostdiffsrvrate  \\\n",
       "0              0       0    0  ...                0.04                0.06   \n",
       "1              0       0    0  ...                0.00                0.06   \n",
       "2              0       0    0  ...                0.61                0.04   \n",
       "3              0       0    0  ...                1.00                0.00   \n",
       "4              0       0    0  ...                0.31                0.17   \n",
       "\n",
       "   dsthostsamesrcportrate  dsthostsrvdiffhostrate  dsthostserrorrate  \\\n",
       "0                    0.00                    0.00                0.0   \n",
       "1                    0.00                    0.00                0.0   \n",
       "2                    0.61                    0.02                0.0   \n",
       "3                    1.00                    0.28                0.0   \n",
       "4                    0.03                    0.02                0.0   \n",
       "\n",
       "   dsthostsrvserrorrate  dsthostrerrorrate  dsthostsrvrerrorrate   attack  \\\n",
       "0                   0.0               1.00                  1.00  neptune   \n",
       "1                   0.0               1.00                  1.00  neptune   \n",
       "2                   0.0               0.00                  0.00   normal   \n",
       "3                   0.0               0.00                  0.00    saint   \n",
       "4                   0.0               0.83                  0.71    mscan   \n",
       "\n",
       "   lastflag  \n",
       "0        21  \n",
       "1        21  \n",
       "2        21  \n",
       "3        15  \n",
       "4        11  \n",
       "\n",
       "[5 rows x 43 columns]"
      ]
     },
     "execution_count": 95,
     "metadata": {},
     "output_type": "execute_result"
    }
   ],
   "source": [
    "test_df = pd.read_csv(\"D:/Test.txt\",sep=\",\",names=[\"duration\",\"protocoltype\",\"service\",\"flag\",\"srcbytes\",\"dstbytes\",\"land\", \"wrongfragment\",\"urgent\",\"hot\",\"numfailedlogins\",\"loggedin\", \"numcompromised\",\"rootshell\",\"suattempted\",\"numroot\",\"numfilecreations\", \"numshells\",\"numaccessfiles\",\"numoutboundcmds\",\"ishostlogin\",\n",
    "\"isguestlogin\",\"count\",\"srvcount\",\"serrorrate\", \"srvserrorrate\",\n",
    "\"rerrorrate\",\"srvrerrorrate\",\"samesrvrate\", \"diffsrvrate\", \"srvdiffhostrate\",\"dsthostcount\",\"dsthostsrvcount\",\"dsthostsamesrvrate\", \"dsthostdiffsrvrate\",\"dsthostsamesrcportrate\",\n",
    "\"dsthostsrvdiffhostrate\",\"dsthostserrorrate\",\"dsthostsrvserrorrate\",\n",
    "\"dsthostrerrorrate\",\"dsthostsrvrerrorrate\",\"attack\", \"lastflag\"])\n",
    "test_df.head()"
   ]
  },
  {
   "cell_type": "code",
   "execution_count": 96,
   "id": "29e1bf8e",
   "metadata": {},
   "outputs": [
    {
     "data": {
      "text/html": [
       "<div>\n",
       "<style scoped>\n",
       "    .dataframe tbody tr th:only-of-type {\n",
       "        vertical-align: middle;\n",
       "    }\n",
       "\n",
       "    .dataframe tbody tr th {\n",
       "        vertical-align: top;\n",
       "    }\n",
       "\n",
       "    .dataframe thead th {\n",
       "        text-align: right;\n",
       "    }\n",
       "</style>\n",
       "<table border=\"1\" class=\"dataframe\">\n",
       "  <thead>\n",
       "    <tr style=\"text-align: right;\">\n",
       "      <th></th>\n",
       "      <th>protocoltype</th>\n",
       "      <th>service</th>\n",
       "      <th>flag</th>\n",
       "      <th>attack</th>\n",
       "    </tr>\n",
       "  </thead>\n",
       "  <tbody>\n",
       "    <tr>\n",
       "      <th>0</th>\n",
       "      <td>tcp</td>\n",
       "      <td>private</td>\n",
       "      <td>REJ</td>\n",
       "      <td>neptune</td>\n",
       "    </tr>\n",
       "    <tr>\n",
       "      <th>1</th>\n",
       "      <td>tcp</td>\n",
       "      <td>private</td>\n",
       "      <td>REJ</td>\n",
       "      <td>neptune</td>\n",
       "    </tr>\n",
       "    <tr>\n",
       "      <th>2</th>\n",
       "      <td>tcp</td>\n",
       "      <td>ftp_data</td>\n",
       "      <td>SF</td>\n",
       "      <td>normal</td>\n",
       "    </tr>\n",
       "    <tr>\n",
       "      <th>3</th>\n",
       "      <td>icmp</td>\n",
       "      <td>eco_i</td>\n",
       "      <td>SF</td>\n",
       "      <td>saint</td>\n",
       "    </tr>\n",
       "    <tr>\n",
       "      <th>4</th>\n",
       "      <td>tcp</td>\n",
       "      <td>telnet</td>\n",
       "      <td>RSTO</td>\n",
       "      <td>mscan</td>\n",
       "    </tr>\n",
       "    <tr>\n",
       "      <th>...</th>\n",
       "      <td>...</td>\n",
       "      <td>...</td>\n",
       "      <td>...</td>\n",
       "      <td>...</td>\n",
       "    </tr>\n",
       "    <tr>\n",
       "      <th>22539</th>\n",
       "      <td>tcp</td>\n",
       "      <td>smtp</td>\n",
       "      <td>SF</td>\n",
       "      <td>normal</td>\n",
       "    </tr>\n",
       "    <tr>\n",
       "      <th>22540</th>\n",
       "      <td>tcp</td>\n",
       "      <td>http</td>\n",
       "      <td>SF</td>\n",
       "      <td>normal</td>\n",
       "    </tr>\n",
       "    <tr>\n",
       "      <th>22541</th>\n",
       "      <td>tcp</td>\n",
       "      <td>http</td>\n",
       "      <td>SF</td>\n",
       "      <td>back</td>\n",
       "    </tr>\n",
       "    <tr>\n",
       "      <th>22542</th>\n",
       "      <td>udp</td>\n",
       "      <td>domain_u</td>\n",
       "      <td>SF</td>\n",
       "      <td>normal</td>\n",
       "    </tr>\n",
       "    <tr>\n",
       "      <th>22543</th>\n",
       "      <td>tcp</td>\n",
       "      <td>sunrpc</td>\n",
       "      <td>REJ</td>\n",
       "      <td>mscan</td>\n",
       "    </tr>\n",
       "  </tbody>\n",
       "</table>\n",
       "<p>22544 rows × 4 columns</p>\n",
       "</div>"
      ],
      "text/plain": [
       "      protocoltype   service  flag   attack\n",
       "0              tcp   private   REJ  neptune\n",
       "1              tcp   private   REJ  neptune\n",
       "2              tcp  ftp_data    SF   normal\n",
       "3             icmp     eco_i    SF    saint\n",
       "4              tcp    telnet  RSTO    mscan\n",
       "...            ...       ...   ...      ...\n",
       "22539          tcp      smtp    SF   normal\n",
       "22540          tcp      http    SF   normal\n",
       "22541          tcp      http    SF     back\n",
       "22542          udp  domain_u    SF   normal\n",
       "22543          tcp    sunrpc   REJ    mscan\n",
       "\n",
       "[22544 rows x 4 columns]"
      ]
     },
     "execution_count": 96,
     "metadata": {},
     "output_type": "execute_result"
    }
   ],
   "source": [
    "test_df.select_dtypes(exclude=[np.number])"
   ]
  },
  {
   "cell_type": "code",
   "execution_count": 97,
   "id": "fe413be5",
   "metadata": {},
   "outputs": [],
   "source": [
    "test_df['attack'].loc[test_df['attack']!='normal']='attack'"
   ]
  },
  {
   "cell_type": "code",
   "execution_count": 98,
   "id": "f9a29cd2",
   "metadata": {},
   "outputs": [],
   "source": [
    "test_df['protocoltype']=le.fit_transform(test_df['protocoltype'])\n",
    "test_df['service']=le.fit_transform(test_df['service'])\n",
    "test_df['flag']=le.fit_transform(test_df['flag'])\n",
    "test_df['attack']=le.fit_transform(test_df['attack'])"
   ]
  },
  {
   "cell_type": "code",
   "execution_count": 99,
   "id": "5d4c4bc5",
   "metadata": {},
   "outputs": [],
   "source": [
    "test_df.drop(['land','urgent','numfailedlogins','numoutboundcmds'],axis=1,inplace=True)"
   ]
  },
  {
   "cell_type": "code",
   "execution_count": 100,
   "id": "88764884",
   "metadata": {},
   "outputs": [],
   "source": [
    "X_test=test_df.drop(['attack'],axis=1)\n",
    "y_test=test_df['attack']"
   ]
  },
  {
   "cell_type": "code",
   "execution_count": 101,
   "id": "ea2512f4",
   "metadata": {},
   "outputs": [
    {
     "data": {
      "text/plain": [
       "<AxesSubplot:xlabel='attack', ylabel='count'>"
      ]
     },
     "execution_count": 101,
     "metadata": {},
     "output_type": "execute_result"
    },
    {
     "data": {
      "image/png": "[encoded data removed]",
      "text/plain": [
       "<Figure size 432x288 with 1 Axes>"
      ]
     },
     "metadata": {
      "needs_background": "light"
     },
     "output_type": "display_data"
    }
   ],
   "source": [
    "sns.countplot(test_df['attack'])"
   ]
  },
  {
   "cell_type": "code",
   "execution_count": 102,
   "id": "3f1ce3bd",
   "metadata": {},
   "outputs": [],
   "source": [
    "X_test_transformed = scaler.transform(X_test)"
   ]
  },
  {
   "cell_type": "code",
   "execution_count": 103,
   "id": "c97d15a8",
   "metadata": {},
   "outputs": [],
   "source": [
    "test_pred=rf.predict(X_test_transformed)"
   ]
  },
  {
   "cell_type": "code",
   "execution_count": 104,
   "id": "472383b1",
   "metadata": {},
   "outputs": [],
   "source": [
    "rf_test_df=pd.DataFrame()\n",
    "rf_test_df['actual']=y_test\n",
    "rf_test_df['pred']=test_pred"
   ]
  },
  {
   "cell_type": "code",
   "execution_count": 105,
   "id": "d086be51",
   "metadata": {},
   "outputs": [
    {
     "data": {
      "text/html": [
       "<div>\n",
       "<style scoped>\n",
       "    .dataframe tbody tr th:only-of-type {\n",
       "        vertical-align: middle;\n",
       "    }\n",
       "\n",
       "    .dataframe tbody tr th {\n",
       "        vertical-align: top;\n",
       "    }\n",
       "\n",
       "    .dataframe thead th {\n",
       "        text-align: right;\n",
       "    }\n",
       "</style>\n",
       "<table border=\"1\" class=\"dataframe\">\n",
       "  <thead>\n",
       "    <tr style=\"text-align: right;\">\n",
       "      <th></th>\n",
       "      <th>actual</th>\n",
       "      <th>pred</th>\n",
       "    </tr>\n",
       "  </thead>\n",
       "  <tbody>\n",
       "    <tr>\n",
       "      <th>0</th>\n",
       "      <td>0</td>\n",
       "      <td>0</td>\n",
       "    </tr>\n",
       "    <tr>\n",
       "      <th>1</th>\n",
       "      <td>0</td>\n",
       "      <td>0</td>\n",
       "    </tr>\n",
       "    <tr>\n",
       "      <th>2</th>\n",
       "      <td>1</td>\n",
       "      <td>1</td>\n",
       "    </tr>\n",
       "    <tr>\n",
       "      <th>3</th>\n",
       "      <td>0</td>\n",
       "      <td>0</td>\n",
       "    </tr>\n",
       "    <tr>\n",
       "      <th>4</th>\n",
       "      <td>0</td>\n",
       "      <td>1</td>\n",
       "    </tr>\n",
       "  </tbody>\n",
       "</table>\n",
       "</div>"
      ],
      "text/plain": [
       "   actual  pred\n",
       "0       0     0\n",
       "1       0     0\n",
       "2       1     1\n",
       "3       0     0\n",
       "4       0     1"
      ]
     },
     "execution_count": 105,
     "metadata": {},
     "output_type": "execute_result"
    }
   ],
   "source": [
    "rf_test_df.head()"
   ]
  },
  {
   "cell_type": "code",
   "execution_count": 106,
   "id": "662ccf6d",
   "metadata": {},
   "outputs": [
    {
     "name": "stdout",
     "output_type": "stream",
     "text": [
      "0.8223030518097941\n"
     ]
    }
   ],
   "source": [
    "print(accuracy_score(y_test, test_pred))"
   ]
  },
  {
   "cell_type": "code",
   "execution_count": 107,
   "id": "8be4fb1b",
   "metadata": {},
   "outputs": [],
   "source": [
    "target_names=[\"attack\",\"normal\"]"
   ]
  },
  {
   "cell_type": "code",
   "execution_count": 108,
   "id": "3f0d0d4b",
   "metadata": {},
   "outputs": [
    {
     "name": "stdout",
     "output_type": "stream",
     "text": [
      "              precision    recall  f1-score   support\n",
      "\n",
      "      attack       0.97      0.71      0.82     12833\n",
      "      normal       0.72      0.97      0.82      9711\n",
      "\n",
      "    accuracy                           0.82     22544\n",
      "   macro avg       0.84      0.84      0.82     22544\n",
      "weighted avg       0.86      0.82      0.82     22544\n",
      "\n"
     ]
    }
   ],
   "source": [
    "print(classification_report(y_test, test_pred,target_names=target_names))"
   ]
  },
  {
   "cell_type": "code",
   "execution_count": 109,
   "id": "965e7f2d",
   "metadata": {},
   "outputs": [
    {
     "data": {
      "text/plain": [
       "array([[9096, 3737],\n",
       "       [ 269, 9442]], dtype=int64)"
      ]
     },
     "execution_count": 109,
     "metadata": {},
     "output_type": "execute_result"
    }
   ],
   "source": [
    "confusion_matrix(y_test, test_pred)"
   ]
  },
  {
   "cell_type": "code",
   "execution_count": 110,
   "id": "b5f12fd2",
   "metadata": {},
   "outputs": [],
   "source": [
    "tn, fp, fn, tp = confusion_matrix(y_test, test_pred).ravel()"
   ]
  },
  {
   "cell_type": "code",
   "execution_count": 111,
   "id": "225915d7",
   "metadata": {},
   "outputs": [
    {
     "name": "stdout",
     "output_type": "stream",
     "text": [
      "True Negatives: 9096\n",
      "False Positives: 3737\n",
      "False Negatives: 269\n",
      "True Positives: 9442\n"
     ]
    }
   ],
   "source": [
    "print(\"True Negatives:\",tn)\n",
    "print(\"False Positives:\",fp)\n",
    "print(\"False Negatives:\",fn)\n",
    "print(\"True Positives:\",tp)"
   ]
  }
 ],
 "metadata": {
  "kernelspec": {
   "display_name": "Python 3",
   "language": "python",
   "name": "python3"
  },
  "language_info": {
   "codemirror_mode": {
    "name": "ipython",
    "version": 3
   },
   "file_extension": ".py",
   "mimetype": "text/x-python",
   "name": "python",
   "nbconvert_exporter": "python",
   "pygments_lexer": "ipython3",
   "version": "3.8.8"
  }
 },
 "nbformat": 4,
 "nbformat_minor": 5
}
